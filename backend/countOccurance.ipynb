{
 "cells": [
  {
   "cell_type": "code",
   "execution_count": 15,
   "metadata": {},
   "outputs": [],
   "source": [
    "import pandas as pd\n",
    "import praw\n",
    "import pickle\n",
    "import concurrent\n",
    "import threading\n",
    "import time"
   ]
  },
  {
   "cell_type": "code",
   "execution_count": 6,
   "metadata": {},
   "outputs": [],
   "source": [
    "client_id = 'FD6fGd4uEID1MQ'\n",
    "client_secret = 'PVC2kUrAcVVrn0GvT5EUAtesXR5_WQ'\n",
    "user_agent = 'scrapeWSB'\n",
    "\n",
    "reddit = praw.Reddit(client_id=client_id, client_secret = client_secret, user_agent = user_agent)"
   ]
  },
  {
   "cell_type": "code",
   "execution_count": 7,
   "metadata": {},
   "outputs": [],
   "source": [
    "wsb = reddit.subreddit('WallStreetBets')"
   ]
  },
  {
   "cell_type": "code",
   "execution_count": 8,
   "metadata": {},
   "outputs": [],
   "source": [
    "url = 'https://www.reddit.com/r/wallstreetbets/comments/iblrnn/what_are_your_moves_tomorrow_august_18_2020/'\n",
    "\n",
    "sub = reddit.submission(url=url)"
   ]
  },
  {
   "cell_type": "code",
   "execution_count": 9,
   "metadata": {},
   "outputs": [],
   "source": [
    "comments = list()\n",
    "from praw.models import MoreComments\n",
    "for post in sub.comments:\n",
    "    if isinstance(post, MoreComments):\n",
    "        continue\n",
    "        print(post)\n",
    "    comments.append([post.body, post.score, post.id, post.subreddit, post.created])"
   ]
  },
  {
   "cell_type": "code",
   "execution_count": 10,
   "metadata": {},
   "outputs": [
    {
     "data": {
      "text/html": [
       "<div>\n",
       "<style scoped>\n",
       "    .dataframe tbody tr th:only-of-type {\n",
       "        vertical-align: middle;\n",
       "    }\n",
       "\n",
       "    .dataframe tbody tr th {\n",
       "        vertical-align: top;\n",
       "    }\n",
       "\n",
       "    .dataframe thead th {\n",
       "        text-align: right;\n",
       "    }\n",
       "</style>\n",
       "<table border=\"1\" class=\"dataframe\">\n",
       "  <thead>\n",
       "    <tr style=\"text-align: right;\">\n",
       "      <th></th>\n",
       "      <th>text</th>\n",
       "      <th>score</th>\n",
       "      <th>id</th>\n",
       "      <th>subreddit</th>\n",
       "      <th>created</th>\n",
       "    </tr>\n",
       "  </thead>\n",
       "  <tbody>\n",
       "    <tr>\n",
       "      <th>0</th>\n",
       "      <td>#S&amp;P to join TSLA</td>\n",
       "      <td>204</td>\n",
       "      <td>g1wilk0</td>\n",
       "      <td>wallstreetbets</td>\n",
       "      <td>1.597724e+09</td>\n",
       "    </tr>\n",
       "    <tr>\n",
       "      <th>1</th>\n",
       "      <td>I still can't believe that just over a year ag...</td>\n",
       "      <td>93</td>\n",
       "      <td>g1wybfd</td>\n",
       "      <td>wallstreetbets</td>\n",
       "      <td>1.597729e+09</td>\n",
       "    </tr>\n",
       "    <tr>\n",
       "      <th>2</th>\n",
       "      <td>For a company with the market cap of Tesla to ...</td>\n",
       "      <td>82</td>\n",
       "      <td>g1wl07n</td>\n",
       "      <td>wallstreetbets</td>\n",
       "      <td>1.597725e+09</td>\n",
       "    </tr>\n",
       "    <tr>\n",
       "      <th>3</th>\n",
       "      <td>Fuck you autists. I decided to gamble my money...</td>\n",
       "      <td>83</td>\n",
       "      <td>g1wr78n</td>\n",
       "      <td>wallstreetbets</td>\n",
       "      <td>1.597727e+09</td>\n",
       "    </tr>\n",
       "    <tr>\n",
       "      <th>4</th>\n",
       "      <td>We should rent out an abandoned autobody shop ...</td>\n",
       "      <td>83</td>\n",
       "      <td>g1xe83q</td>\n",
       "      <td>wallstreetbets</td>\n",
       "      <td>1.597737e+09</td>\n",
       "    </tr>\n",
       "    <tr>\n",
       "      <th>...</th>\n",
       "      <td>...</td>\n",
       "      <td>...</td>\n",
       "      <td>...</td>\n",
       "      <td>...</td>\n",
       "      <td>...</td>\n",
       "    </tr>\n",
       "    <tr>\n",
       "      <th>414</th>\n",
       "      <td>TRUST THE ORACLE 🔮🧙🏼‍♂️</td>\n",
       "      <td>9</td>\n",
       "      <td>g1ye3t3</td>\n",
       "      <td>wallstreetbets</td>\n",
       "      <td>1.597758e+09</td>\n",
       "    </tr>\n",
       "    <tr>\n",
       "      <th>415</th>\n",
       "      <td>Gold and silver boutta moon rn, has a pretty s...</td>\n",
       "      <td>10</td>\n",
       "      <td>g1yeh7n</td>\n",
       "      <td>wallstreetbets</td>\n",
       "      <td>1.597759e+09</td>\n",
       "    </tr>\n",
       "    <tr>\n",
       "      <th>416</th>\n",
       "      <td>[deleted]</td>\n",
       "      <td>9</td>\n",
       "      <td>g1yfaf9</td>\n",
       "      <td>wallstreetbets</td>\n",
       "      <td>1.597759e+09</td>\n",
       "    </tr>\n",
       "    <tr>\n",
       "      <th>417</th>\n",
       "      <td>[deleted]</td>\n",
       "      <td>10</td>\n",
       "      <td>g1yhvuo</td>\n",
       "      <td>wallstreetbets</td>\n",
       "      <td>1.597762e+09</td>\n",
       "    </tr>\n",
       "    <tr>\n",
       "      <th>418</th>\n",
       "      <td>Silver futures make my pee pee hard as metal</td>\n",
       "      <td>9</td>\n",
       "      <td>g1yhy2v</td>\n",
       "      <td>wallstreetbets</td>\n",
       "      <td>1.597762e+09</td>\n",
       "    </tr>\n",
       "  </tbody>\n",
       "</table>\n",
       "<p>419 rows × 5 columns</p>\n",
       "</div>"
      ],
      "text/plain": [
       "                                                  text  score       id  \\\n",
       "0                                    #S&P to join TSLA    204  g1wilk0   \n",
       "1    I still can't believe that just over a year ag...     93  g1wybfd   \n",
       "2    For a company with the market cap of Tesla to ...     82  g1wl07n   \n",
       "3    Fuck you autists. I decided to gamble my money...     83  g1wr78n   \n",
       "4    We should rent out an abandoned autobody shop ...     83  g1xe83q   \n",
       "..                                                 ...    ...      ...   \n",
       "414                            TRUST THE ORACLE 🔮🧙🏼‍♂️      9  g1ye3t3   \n",
       "415  Gold and silver boutta moon rn, has a pretty s...     10  g1yeh7n   \n",
       "416                                          [deleted]      9  g1yfaf9   \n",
       "417                                          [deleted]     10  g1yhvuo   \n",
       "418       Silver futures make my pee pee hard as metal      9  g1yhy2v   \n",
       "\n",
       "          subreddit       created  \n",
       "0    wallstreetbets  1.597724e+09  \n",
       "1    wallstreetbets  1.597729e+09  \n",
       "2    wallstreetbets  1.597725e+09  \n",
       "3    wallstreetbets  1.597727e+09  \n",
       "4    wallstreetbets  1.597737e+09  \n",
       "..              ...           ...  \n",
       "414  wallstreetbets  1.597758e+09  \n",
       "415  wallstreetbets  1.597759e+09  \n",
       "416  wallstreetbets  1.597759e+09  \n",
       "417  wallstreetbets  1.597762e+09  \n",
       "418  wallstreetbets  1.597762e+09  \n",
       "\n",
       "[419 rows x 5 columns]"
      ]
     },
     "execution_count": 10,
     "metadata": {},
     "output_type": "execute_result"
    }
   ],
   "source": [
    "posts = pd.DataFrame(comments,columns=['text', 'score', 'id', 'subreddit', 'created'])\n",
    "posts"
   ]
  },
  {
   "cell_type": "code",
   "execution_count": 11,
   "metadata": {},
   "outputs": [],
   "source": [
    "with open('tickers.pkl', 'rb') as f:\n",
    "    tickers = pickle.load(f)\n",
    "\n",
    "tickers = [{'ticker': f' {ticker} ', 'occur': 0} for ticker in tickers]\n",
    "\n",
    "tickers = pd.DataFrame(tickers)"
   ]
  },
  {
   "cell_type": "code",
   "execution_count": 12,
   "metadata": {},
   "outputs": [],
   "source": [
    "class database():\n",
    "    def __init__(self, tick):\n",
    "        self.tickers = tick\n",
    "        self._lock = threading.Lock()\n",
    "    def update(self, post):\n",
    "        for index, col in self.tickers.iterrows():\n",
    "            if col['ticker'] in post:\n",
    "                local_copy = self.tickers.loc[index, 'occur']\n",
    "                local_copy += 1\n",
    "                time.sleep(0.1)\n",
    "                self.tickers.loc[index, 'occur'] = local_copy"
   ]
  },
  {
   "cell_type": "code",
   "execution_count": 13,
   "metadata": {},
   "outputs": [],
   "source": [
    "db = database(tickers)"
   ]
  },
  {
   "cell_type": "code",
   "execution_count": 16,
   "metadata": {},
   "outputs": [
    {
     "name": "stdout",
     "output_type": "stream",
     "text": [
      "8 minutes\n"
     ]
    }
   ],
   "source": [
    "start = time.time()\n",
    "with concurrent.futures.ThreadPoolExecutor(max_workers=8) as executor:\n",
    "    for post in posts['text'].to_list():\n",
    "        executor.submit(db.update, post)\n",
    "end = time.time()\n",
    "elapsed = round((end-start) / 60)\n",
    "print(f'{elapsed} minutes')"
   ]
  },
  {
   "cell_type": "code",
   "execution_count": 17,
   "metadata": {},
   "outputs": [],
   "source": [
    "sorted_tickers = db.tickers.sort_values(by = 'occur', axis = 0, ascending=False)"
   ]
  },
  {
   "cell_type": "code",
   "execution_count": 18,
   "metadata": {},
   "outputs": [],
   "source": [
    "banned = ['ABLE', 'FLEX', 'BOTH', 'LOW', 'TELL', 'FIND', 'WISH', 'X', 'TRUE', 'MOST', 'GAIN', 'RSI', 'HOPE', 'A', 'ON', 'FOR', 'IT', 'BE', 'AT', 'ALL', 'WHEN', 'INTO', 'SO', 'OR', 'NOW', 'MAKE', \"AN\", 'HAS', 'SEE', 'BEEN', 'BY', 'GO', 'SOME', 'HE', 'CAP', 'LOVE', 'AM', 'ANY', 'ELSE', 'TECH', 'FREE', 'POST', 'NEXT', 'MAN', 'WAKE', 'HOME', 'U', 'PM', 'AGO', 'LIFE', 'EVER', 'ATH', 'BIG', 'PUMP', 'KIDS', 'CAR', 'OPEN']"
   ]
  },
  {
   "cell_type": "code",
   "execution_count": 19,
   "metadata": {},
   "outputs": [],
   "source": [
    "def check_banned(x):\n",
    "    if x not in banned:\n",
    "        return x"
   ]
  },
  {
   "cell_type": "code",
   "execution_count": 20,
   "metadata": {},
   "outputs": [],
   "source": [
    "banned = [f' {x} ' for x in banned]"
   ]
  },
  {
   "cell_type": "code",
   "execution_count": 21,
   "metadata": {},
   "outputs": [],
   "source": [
    "mask = sorted_tickers['ticker'].apply(check_banned)"
   ]
  },
  {
   "cell_type": "code",
   "execution_count": 37,
   "metadata": {},
   "outputs": [],
   "source": [
    "mask = mask.dropna()[:10]"
   ]
  },
  {
   "cell_type": "code",
   "execution_count": null,
   "metadata": {},
   "outputs": [],
   "source": []
  },
  {
   "cell_type": "code",
   "execution_count": 72,
   "metadata": {},
   "outputs": [],
   "source": [
    "dicts = [sorted_tickers[sorted_tickers['ticker'] == ticker].to_dict() for ticker in mask]"
   ]
  },
  {
   "cell_type": "code",
   "execution_count": 81,
   "metadata": {},
   "outputs": [],
   "source": [
    "ret = [{'ticker': list(a['ticker'].values())[0], 'occur': list(a['occur'].values())[0]} for a in dicts]"
   ]
  },
  {
   "cell_type": "code",
   "execution_count": 80,
   "metadata": {},
   "outputs": [],
   "source": [
    "import json"
   ]
  },
  {
   "cell_type": "code",
   "execution_count": 82,
   "metadata": {},
   "outputs": [
    {
     "data": {
      "text/plain": [
       "'[{\"ticker\": \" TSLA \", \"occur\": 50}, {\"ticker\": \" AAPL \", \"occur\": 7}, {\"ticker\": \" WMT \", \"occur\": 3}, {\"ticker\": \" RH \", \"occur\": 2}, {\"ticker\": \" NVDA \", \"occur\": 1}, {\"ticker\": \" MS \", \"occur\": 1}, {\"ticker\": \" DOCU \", \"occur\": 1}, {\"ticker\": \" PRPL \", \"occur\": 1}, {\"ticker\": \" OSTK \", \"occur\": 1}, {\"ticker\": \" HD \", \"occur\": 1}]'"
      ]
     },
     "execution_count": 82,
     "metadata": {},
     "output_type": "execute_result"
    }
   ],
   "source": [
    "json.dumps(ret)"
   ]
  },
  {
   "cell_type": "code",
   "execution_count": null,
   "metadata": {},
   "outputs": [],
   "source": []
  }
 ],
 "metadata": {
  "kernelspec": {
   "display_name": "Python 3",
   "language": "python",
   "name": "python3"
  },
  "language_info": {
   "codemirror_mode": {
    "name": "ipython",
    "version": 3
   },
   "file_extension": ".py",
   "mimetype": "text/x-python",
   "name": "python",
   "nbconvert_exporter": "python",
   "pygments_lexer": "ipython3",
   "version": "3.8.3"
  }
 },
 "nbformat": 4,
 "nbformat_minor": 4
}
