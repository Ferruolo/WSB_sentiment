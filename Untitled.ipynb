{
 "cells": [
  {
   "cell_type": "code",
   "execution_count": 1,
   "metadata": {},
   "outputs": [],
   "source": [
    "from selenium import webdriver\n",
    "from selenium.webdriver.common.keys import Keys\n",
    "\n",
    "\n",
    "fireFoxOptions = webdriver.FirefoxOptions()\n",
    "fireFoxOptions.set_headless()\n",
    "\n",
    "driver = webdriver.Firefox(executable_path='./geckodriver', firefox_options= fireFoxOptions)\n",
    "\n",
    "driver.get('https://www.reddit.com/r/wallstreetbets/search?q=flair_name%3A%22Daily%20Discussion%22&restrict_sr=1&sort=new')\n",
    "\n",
    "links = driver.find_element_by_tag_name('a')\n",
    "\n",
    "html_class = 'SQnoC3ObvgnGjWt90zD9Z'\n",
    "\n",
    "[discussion.get_attribute('href') for discussion in driver.find_elements_by_class_name(html_class)]"
   ]
  },
  {
   "cell_type": "code",
   "execution_count": null,
   "metadata": {},
   "outputs": [],
   "source": []
  }
 ],
 "metadata": {
  "kernelspec": {
   "display_name": "Python 3",
   "language": "python",
   "name": "python3"
  },
  "language_info": {
   "codemirror_mode": {
    "name": "ipython",
    "version": 3
   },
   "file_extension": ".py",
   "mimetype": "text/x-python",
   "name": "python",
   "nbconvert_exporter": "python",
   "pygments_lexer": "ipython3",
   "version": "3.8.3"
  }
 },
 "nbformat": 4,
 "nbformat_minor": 4
}
